{
  "nbformat": 4,
  "nbformat_minor": 0,
  "metadata": {
    "colab": {
      "name": "sudoku.ipynb",
      "provenance": [],
      "collapsed_sections": [],
      "authorship_tag": "ABX9TyNBzxgjLlWJLib8XHkT33nJ",
      "include_colab_link": true
    },
    "kernelspec": {
      "name": "python3",
      "display_name": "Python 3"
    }
  },
  "cells": [
    {
      "cell_type": "markdown",
      "metadata": {
        "id": "view-in-github",
        "colab_type": "text"
      },
      "source": [
        "<a href=\"https://colab.research.google.com/github/toshiogawa/simulasir/blob/master/sudoku.ipynb\" target=\"_parent\"><img src=\"https://colab.research.google.com/assets/colab-badge.svg\" alt=\"Open In Colab\"/></a>"
      ]
    },
    {
      "cell_type": "code",
      "metadata": {
        "id": "st2g6fwiOX9u"
      },
      "source": [
        "import numpy as np\n",
        "from functools import reduce\n",
        " \n",
        "# 戻るためのスタック\n",
        "s = []\n",
        " \n",
        "def start(x, y, vals, a):\n",
        "    if vals.size == 0:\n",
        "        # ダメなのでやり直し\n",
        "        x = x - 1\n",
        "        if x < 0:\n",
        "            y = y - 1\n",
        "            x = 8\n",
        "            if y < 0:\n",
        "                print(\"NG END\")\n",
        "                return\n",
        " \n",
        "        a[x, y] = 0\n",
        "        vals = s.pop()\n",
        "        start(x, y, vals, np.copy(a))\n",
        "        return\n",
        "    \n",
        "    # valsのなかからランダムに選ぶ\n",
        "    sel = np.random.choice(vals)\n",
        "    a[x, y] = sel\n",
        "    s.append(vals[vals != sel])\n",
        "    \n",
        "    # 次に進む\n",
        "    x = x + 1\n",
        "    if x >= 9:\n",
        "        x = 0\n",
        "        y= y + 1\n",
        "        if y >= 9:\n",
        "            print(\"-----END\")\n",
        "            print(a)\n",
        "            return\n",
        "    \n",
        "    # 配置可能な数字の候補を求める\n",
        "    # ①横方向に置ける数値\n",
        "    n1 = np.setdiff1d([1, 2, 3, 4, 5, 6, 7, 8, 9], a[x, :])\n",
        "    # ②縦方向に置ける数値\n",
        "    n2 = np.setdiff1d([1, 2, 3, 4, 5, 6, 7, 8, 9], a[:, y])\n",
        "    # ③3×3の内部に置ける数値\n",
        "    rx = (x // 3) * 3\n",
        "    ry = (y // 3) * 3\n",
        "    r = a[rx : rx + 3, ry : ry + 3]\n",
        "    n3 = np.setdiff1d([1, 2, 3, 4, 5, 6, 7, 8, 9], r.reshape(-1))\n",
        " \n",
        "    # ①②③を満たす値を選ぶ\n",
        "    u = reduce(np.intersect1d, (n1, n2, n3))\n",
        "    start(x, y, u, np.copy(a))\n",
        " \n",
        "# データ\n",
        "# 0で初期化\n",
        "a = np.zeros((9, 9), dtype=int)\n",
        "start(0, 0, np.array([1, 2, 3, 4, 5, 6, 7, 8, 9]), a)\n"
      ],
      "execution_count": null,
      "outputs": []
    }
  ]
}